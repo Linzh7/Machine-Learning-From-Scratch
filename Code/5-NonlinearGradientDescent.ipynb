{
 "metadata": {
  "language_info": {
   "codemirror_mode": {
    "name": "ipython",
    "version": 3
   },
   "file_extension": ".py",
   "mimetype": "text/x-python",
   "name": "python",
   "nbconvert_exporter": "python",
   "pygments_lexer": "ipython3",
   "version": "3.8.3-final"
  },
  "orig_nbformat": 2,
  "kernelspec": {
   "name": "python_defaultSpec_1597905684324",
   "display_name": "Python 3.8.3 64-bit ('anaconda3': virtualenv)"
  }
 },
 "nbformat": 4,
 "nbformat_minor": 2,
 "cells": [
  {
   "cell_type": "code",
   "execution_count": 1,
   "metadata": {},
   "outputs": [],
   "source": [
    "import numpy as np\n",
    "from Cost import Cost\n",
    "import DataReader"
   ]
  },
  {
   "cell_type": "code",
   "execution_count": 2,
   "metadata": {},
   "outputs": [],
   "source": [
    "class GradientDescent():\n",
    "    def MultivariateGradientDescent(data_x,\n",
    "                                    data_y,\n",
    "                                    variableNum,\n",
    "                                    epsilon=0.001,\n",
    "                                    learningRate=0.0001):\n",
    "        count = 0\n",
    "        theta = []\n",
    "        for i in range(variableNum):\n",
    "            theta.append(0)\n",
    "        predictCost1 = -99999999\n",
    "        while True:\n",
    "            count += 1\n",
    "            gradient = []\n",
    "            for i in range(variableNum):\n",
    "                gradient.append(0)\n",
    "            for index in range(len(data_y)):\n",
    "                diff = 0\n",
    "                for i in range(len(data_x)):\n",
    "                    diff += theta[i] * data_x[i][index]\n",
    "                diff -= data_y[index]\n",
    "                for i in range(variableNum):\n",
    "                    gradient[i] += (2.0 /\n",
    "                                    len(data_y)) * data_x[i][index] * diff\n",
    "                for i in range(variableNum):\n",
    "                    theta[i] -= learningRate * gradient[i]\n",
    "            predict_y = np.zeros(data_y.shape)\n",
    "            for i in range(variableNum):\n",
    "                predict_y += theta[i] * data_x[i]\n",
    "            predictCost0 = Cost.SquaredErrors(data_y, predict_y)\n",
    "            if predictCost0 - predictCost1 < epsilon:\n",
    "                return theta, predictCost0\n",
    "            else:\n",
    "                predictCost1 = predictCost0"
   ]
  },
  {
   "cell_type": "code",
   "execution_count": 3,
   "metadata": {},
   "outputs": [],
   "source": [
    "data_x,data_y=DataReader.PrebuiltData.MyMultivariateGivenData()"
   ]
  },
  {
   "cell_type": "code",
   "execution_count": 4,
   "metadata": {
    "tags": []
   },
   "outputs": [
    {
     "output_type": "stream",
     "name": "stdout",
     "text": "[2.163704014837844, 4.327408029675688] 383132.1645110667\nTime Cost:  0.0037491321563720703\n"
    }
   ],
   "source": [
    "import time\n",
    "time_start=time.time()\n",
    "\n",
    "theta, cost = GradientDescent.MultivariateGradientDescent(data_x, data_y, 2)\n",
    "print(theta, cost)\n",
    "\n",
    "time_end=time.time()\n",
    "\n",
    "print('Time Cost: ',time_end-time_start)"
   ]
  }
 ]
}