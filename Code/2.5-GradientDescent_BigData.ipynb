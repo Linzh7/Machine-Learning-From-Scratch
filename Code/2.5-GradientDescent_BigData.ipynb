{
 "metadata": {
  "language_info": {
   "codemirror_mode": {
    "name": "ipython",
    "version": 3
   },
   "file_extension": ".py",
   "mimetype": "text/x-python",
   "name": "python",
   "nbconvert_exporter": "python",
   "pygments_lexer": "ipython3",
   "version": "3.8.3-final"
  },
  "orig_nbformat": 2,
  "kernelspec": {
   "name": "Python 3.8.3 64-bit ('anaconda3': conda)",
   "display_name": "Python 3.8.3 64-bit ('anaconda3': conda)",
   "metadata": {
    "interpreter": {
     "hash": "60dd2710664135357c468eb33a9da7f3dd8e597d11a4ea2c0d7126bd8a0e7f69"
    }
   }
  }
 },
 "nbformat": 4,
 "nbformat_minor": 2,
 "cells": [
  {
   "cell_type": "code",
   "execution_count": 9,
   "metadata": {},
   "outputs": [],
   "source": [
    "import numpy as np\n",
    "import Cost\n",
    "import DataReader\n",
    "import matplotlib.pyplot as plt"
   ]
  },
  {
   "cell_type": "code",
   "execution_count": 21,
   "metadata": {},
   "outputs": [],
   "source": [
    "def BatchGradientDescent(data_x,\n",
    "                         data_y,\n",
    "                         variableNum,\n",
    "                         epsilon=0.01,\n",
    "                         learningRate=0.0001):\n",
    "    count = 0\n",
    "    theta = np.ones((variableNum, ), dtype=np.float32)\n",
    "    predict_y = np.zeros((len(data_y), ), dtype=np.float32)\n",
    "    predictCost1 = -99999\n",
    "    while True:\n",
    "        time_start=time.time()\n",
    "        count += 1\n",
    "        diff = np.zeros((variableNum, ), dtype=np.float32)\n",
    "        \n",
    "        for index in range(len(data_y)):\n",
    "            predict_y[index] = np.dot(theta.T, data_x[index])\n",
    "            #print(theta.T, data_x[index], predict_y[index])\n",
    "            for i in range(variableNum):\n",
    "                diff[i] += (predict_y[index] -\n",
    "                            data_y[index]) * data_x[index][i]\n",
    "\n",
    "        for i in range(variableNum):\n",
    "            theta[i] -= learningRate * diff[i] / len(data_y)\n",
    "\n",
    "        predictCost0 = Cost.SquaredErrors(data_y, predict_y)\n",
    "        if abs(predictCost0 - predictCost1) < epsilon:\n",
    "            return theta, predictCost0\n",
    "        else:\n",
    "            predictCost1 = predictCost0\n",
    "        time_end=time.time()\n",
    "        if (count % 10 == 0):\n",
    "            print(count,':',time_end-time_start)\n",
    "\n",
    "\n",
    "def StochasticGradientDescent(data_x,\n",
    "                              data_y,\n",
    "                              variableNum,\n",
    "                              epsilon=0.01,\n",
    "                              learningRate=0.001):\n",
    "    count = 0\n",
    "    theta = np.ones((variableNum, ), dtype=np.float32)\n",
    "    predict_y = np.zeros((len(data_y), ), dtype=np.float32)\n",
    "    predictCost1 = -99999\n",
    "    while True:\n",
    "        count += 1\n",
    "        for index in range(len(data_y)):\n",
    "            diff = np.zeros((variableNum, ), dtype=np.float32)\n",
    "            predict_y[index] = np.dot(theta.T, data_x[index])\n",
    "            for i in range(variableNum):\n",
    "                diff[i] += (predict_y[index] -\n",
    "                            data_y[index]) * data_x[index][i]\n",
    "            for i in range(variableNum):\n",
    "                theta[i] -= learningRate * diff[i] / len(data_y)\n",
    "            predictCost0 = Cost.SquaredErrors(data_y, predict_y)\n",
    "            if abs(predictCost0 - predictCost1) < epsilon:\n",
    "                return theta, predictCost0\n",
    "            else:\n",
    "                predictCost1 = predictCost0\n",
    "\n",
    "def MinibatchGradientDescent(data_x,\n",
    "                                data_y,\n",
    "                                variableNum,\n",
    "                                batchSize,\n",
    "                                epsilon=0.01,\n",
    "                                learningRate=0.001):\n",
    "    # initialize\n",
    "    count = 0\n",
    "    theta = np.ones((variableNum, ), dtype=np.float32)\n",
    "    predict_y = np.zeros((len(data_y), ), dtype=np.float32)\n",
    "    predictCost1 = -99999\n",
    "\n",
    "    # operate\n",
    "    while True:\n",
    "        count += 1\n",
    "        diff = np.zeros((variableNum, ), dtype=np.float32)\n",
    "\n",
    "        # shuffle the data set\n",
    "        state = np.random.get_state()\n",
    "        np.random.shuffle(data_x)\n",
    "        np.random.set_state(state)\n",
    "        np.random.shuffle(data_y)\n",
    "\n",
    "        # compute diff\n",
    "        for index in range(batchSize):\n",
    "            predict_y[index] = np.dot(theta.T, data_x[index])\n",
    "            for i in range(variableNum):\n",
    "                diff[i] += (predict_y[index] -\n",
    "                            data_y[index]) * data_x[index][i]\n",
    "\n",
    "        # update theta\n",
    "        for i in range(variableNum):\n",
    "            theta[i] -= learningRate * diff[i] / len(data_y)\n",
    "\n",
    "        # stop condition\n",
    "        predict_y = np.dot(data_x, theta.T)\n",
    "        predictCost0 = Cost.SquaredErrors(data_y, predict_y)\n",
    "        if abs(predictCost0 - predictCost1) < epsilon:\n",
    "            return theta, predictCost0\n",
    "        else:\n",
    "            predictCost1 = predictCost0"
   ]
  },
  {
   "cell_type": "code",
   "execution_count": 22,
   "metadata": {
    "tags": []
   },
   "outputs": [],
   "source": [
    "data_x,data_y=DataReader.MyMultivariateGivenData()"
   ]
  },
  {
   "cell_type": "code",
   "execution_count": 23,
   "metadata": {
    "tags": []
   },
   "outputs": [
    {
     "output_type": "stream",
     "name": "stdout",
     "text": "10 : 0.0023088455200195312\n20 : 0.0014600753784179688\n[2.995741 4.991482] 11.951501848614408\nTime Cost: 0.052349090576171875\n"
    }
   ],
   "source": [
    "import time\n",
    "time_start=time.time()\n",
    "\n",
    "theta, cost = BatchGradientDescent(data_x, data_y, 2)\n",
    "print(theta, cost)\n",
    "\n",
    "time_end=time.time()\n",
    "\n",
    "print('Time Cost:',time_end-time_start)"
   ]
  },
  {
   "cell_type": "markdown",
   "metadata": {},
   "source": [
    "2.995741 4.991482 11.951501848614408\n",
    "\n",
    "Time Cost: 0.06s"
   ]
  },
  {
   "cell_type": "code",
   "execution_count": 14,
   "metadata": {
    "tags": []
   },
   "outputs": [
    {
     "output_type": "stream",
     "name": "stdout",
     "text": "[2.9962835 4.992566 ] 8.595104151832285\nTime Cost: 0.029675006866455078\n"
    }
   ],
   "source": [
    "import time\n",
    "time_start=time.time()\n",
    "\n",
    "theta, cost = StochasticGradientDescent(data_x, data_y, 2)\n",
    "print(theta, cost)\n",
    "\n",
    "time_end=time.time()\n",
    "\n",
    "print('Time Cost:',time_end-time_start)"
   ]
  },
  {
   "cell_type": "code",
   "execution_count": 16,
   "metadata": {
    "tags": []
   },
   "outputs": [
    {
     "output_type": "stream",
     "name": "stdout",
     "text": "[2.995716 4.991432] 11.95276673753416\nTime Cost: 0.008604764938354492\n"
    }
   ],
   "source": [
    "import time\n",
    "time_start=time.time()\n",
    "\n",
    "theta, cost = MinibatchGradientDescent(data_x, data_y, 2, 2)\n",
    "print(theta, cost)\n",
    "\n",
    "time_end=time.time()\n",
    "\n",
    "print('Time Cost:',time_end-time_start)"
   ]
  }
 ]
}