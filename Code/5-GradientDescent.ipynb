{
 "metadata": {
  "language_info": {
   "codemirror_mode": {
    "name": "ipython",
    "version": 3
   },
   "file_extension": ".py",
   "mimetype": "text/x-python",
   "name": "python",
   "nbconvert_exporter": "python",
   "pygments_lexer": "ipython3",
   "version": "3.8.3-final"
  },
  "orig_nbformat": 2,
  "kernelspec": {
   "name": "python_defaultSpec_1597398144881",
   "display_name": "Python 3.8.3 64-bit ('anaconda3': virtualenv)"
  }
 },
 "nbformat": 4,
 "nbformat_minor": 2,
 "cells": [
  {
   "cell_type": "code",
   "execution_count": 2,
   "metadata": {},
   "outputs": [],
   "source": [
    "import numpy as np\n",
    "from Cost import Cost\n",
    "import DataReader"
   ]
  },
  {
   "cell_type": "code",
   "execution_count": 3,
   "metadata": {},
   "outputs": [],
   "source": [
    "class GradientDescent():\n",
    "    def GradientDescent(data_x,\n",
    "                             data_y,\n",
    "                             epsilon=0.01,\n",
    "                             learningRate=0.0001):\n",
    "        count = 0\n",
    "        theta = [0, 0]\n",
    "        predictCost1 = -99999999\n",
    "        while True:\n",
    "            count += 1\n",
    "            gradient = [0, 0]\n",
    "            N = float(len(data_x))\n",
    "            for index in range(len(data_x)):\n",
    "                diff = (theta[0] + theta[1] * data_x[index]) - data_y[index]\n",
    "                gradient[0] += (2 / N) * diff\n",
    "                gradient[1] += (2 / N) * data_x[index] * diff\n",
    "            theta[0] -= learningRate * gradient[0]\n",
    "            theta[1] -= learningRate * gradient[1]\n",
    "\n",
    "            predict_y = theta[0] + theta[1] * data_x\n",
    "\n",
    "            predictCost0 = Cost.SquaredErrors(data_x, predict_y)\n",
    "\n",
    "            if predictCost0 - predictCost1 < epsilon:\n",
    "                return theta, predictCost0\n",
    "            else:\n",
    "                predictCost1 = predictCost0"
   ]
  },
  {
   "cell_type": "code",
   "execution_count": 4,
   "metadata": {
    "tags": []
   },
   "outputs": [],
   "source": [
    "data_x, data_y = DataReader.PrebuiltData.MyGivenData()"
   ]
  },
  {
   "cell_type": "code",
   "execution_count": 6,
   "metadata": {
    "tags": []
   },
   "outputs": [
    {
     "output_type": "stream",
     "name": "stdout",
     "text": "[0.04833961505260565, 3.040877018686181] 342153.3610830631\nTime Cost:  0.01772022247314453\n"
    }
   ],
   "source": [
    "import time\n",
    "time_start=time.time()\n",
    "\n",
    "theta, cost = GradientDescent.LinerGradientDescent(data_x, data_y)\n",
    "print(theta, cost)\n",
    "\n",
    "time_end=time.time()\n",
    "\n",
    "print('Time Cost: ',time_end-time_start)"
   ]
  },
  {
   "cell_type": "markdown",
   "metadata": {},
   "source": [
    "在常数项的拟合上，梯度下降不尽如人意，这也是因为其数学特点决定的——如果某参数与任何自变量无关，则很难直接通过这个方法求出。\n",
    "不过，仅有bias的未知网络参数已经比原来少了很多，其参数数量等于节点个数，因而许多简单的优化方案可以直接应用。"
   ]
  }
 ]
}