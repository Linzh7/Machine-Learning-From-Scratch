{
 "metadata": {
  "language_info": {
   "codemirror_mode": {
    "name": "ipython",
    "version": 3
   },
   "file_extension": ".py",
   "mimetype": "text/x-python",
   "name": "python",
   "nbconvert_exporter": "python",
   "pygments_lexer": "ipython3",
   "version": "3.8.3-final"
  },
  "orig_nbformat": 2,
  "kernelspec": {
   "name": "python_defaultSpec_1599925491512",
   "display_name": "Python 3.8.3 64-bit ('anaconda3': virtualenv)"
  }
 },
 "nbformat": 4,
 "nbformat_minor": 2,
 "cells": [
  {
   "cell_type": "code",
   "execution_count": 1,
   "metadata": {},
   "outputs": [],
   "source": [
    "import numpy as np\n",
    "import math"
   ]
  },
  {
   "cell_type": "code",
   "execution_count": 6,
   "metadata": {},
   "outputs": [],
   "source": [
    "def Fx(x, a=0, b=3, c=3):\n",
    "    return a * x**2 + b * x + c\n",
    "\n",
    "def MyData(rangeStart=1,\n",
    "            rangeEnd=100,\n",
    "            rangeNum=100,\n",
    "            randomFloat=1,\n",
    "            a=0,\n",
    "            b=3,\n",
    "            c=3):\n",
    "    data_x = np.linspace(rangeStart, rangeEnd, rangeNum)\n",
    "    random = np.random.randn(len(data_x))\n",
    "    data_y = Fx(data_x, a, b, c) + randomFloat * random\n",
    "    return data_x, data_y\n",
    "\n",
    "def MyGivenData():\n",
    "    data_x = [\n",
    "        1, 2, 3, 4, 5, 6, 7, 8, 9, 10, 11, 12, 13, 14, 15, 16, 17, 18, 19,\n",
    "        20, 21, 22, 23, 24, 25, 26, 27, 28, 29, 30, 31, 32, 33, 34, 35, 36,\n",
    "        37, 38, 39, 40, 41, 42, 43, 44, 45, 46, 47, 48, 49, 50, 51, 52, 53,\n",
    "        54, 55, 56, 57, 58, 59, 60, 61, 62, 63, 64, 65, 66, 67, 68, 69, 70,\n",
    "        71, 72, 73, 74, 75, 76, 77, 78, 79, 80, 81, 82, 83, 84, 85, 86, 87,\n",
    "        88, 89, 90, 91, 92, 93, 94, 95, 96, 97, 98, 99\n",
    "    ]\n",
    "    data_y = [\n",
    "        3.03, 8.98, 9.76, 17.77, 19.36, 18.02, 21.67, 24.84, 30.06, 31.09,\n",
    "        33.14, 39.66, 43.24, 43.01, 49.08, 48.67, 51.22, 58.73, 62.35,\n",
    "        63.37, 66.21, 68.36, 72.58, 77.73, 79.30, 82.41, 84.59, 87.65,\n",
    "        92.71, 94.14, 98.96, 96.92, 100.49, 103.69, 107.47, 112.30, 112.25,\n",
    "        119.65, 120.27, 122.58, 126.75, 126.56, 131.66, 135.19, 137.22,\n",
    "        140.52, 144.36, 148.66, 151.89, 151.59, 154.52, 156.10, 160.59,\n",
    "        167.87, 169.54, 169.42, 175.30, 176.61, 181.15, 183.19, 187.32,\n",
    "        188.07, 194.08, 192.35, 195.48, 199.27, 202.93, 208.60, 209.41,\n",
    "        210.97, 216.89, 216.22, 222.08, 226.80, 225.78, 230.25, 231.79,\n",
    "        234.64, 242.19, 241.19, 243.91, 246.65, 254.63, 254.22, 260.18,\n",
    "        261.71, 264.59, 267.76, 268.21, 274.39, 275.98, 280.82, 283.98,\n",
    "        282.57, 285.02, 288.28, 296.47, 294.98, 299.00\n",
    "    ]\n",
    "    return data_x, data_y"
   ]
  },
  {
   "cell_type": "code",
   "execution_count": 7,
   "metadata": {},
   "outputs": [],
   "source": [
    "def SquaredErrors(data, predict):\n",
    "    if len(data) != len(predict):\n",
    "        print(\"Lengths of two data list are not equal.\")\n",
    "        return 0x7fffffff\n",
    "    bias = 0\n",
    "    for index in np.arange(0, len(data)):\n",
    "        bias += ((data[index] - predict[index])**2) / 2\n",
    "    bias /= 2\n",
    "    return bias"
   ]
  },
  {
   "cell_type": "code",
   "execution_count": 12,
   "metadata": {},
   "outputs": [],
   "source": [
    "def LinerRegressionEnumerate(data_x, data_y, maxRange=100, stepSize=1):\n",
    "    cost = 0x7fffffff\n",
    "    costSave = 0x7fffffff\n",
    "    kSave = 0\n",
    "    bSave = 0\n",
    "    for k in range(0, maxRange, stepSize):\n",
    "        for b in range(0, maxRange, stepSize):\n",
    "            predict_y = list(map(lambda x: x * k + b, data_x))\n",
    "            cost = SquaredErrors(data_y, predict_y)\n",
    "            if cost < costSave:\n",
    "                kSave = k\n",
    "                bSave = b\n",
    "                costSave = cost\n",
    "                # print(k, b, cost)\n",
    "    return kSave, bSave, costSave"
   ]
  },
  {
   "cell_type": "code",
   "execution_count": 13,
   "metadata": {},
   "outputs": [],
   "source": [
    "data_x, data_y = MyData()"
   ]
  },
  {
   "cell_type": "code",
   "execution_count": 14,
   "metadata": {
    "tags": []
   },
   "outputs": [],
   "source": [
    "k,b,cost = LinerRegressionEnumerate(data_x,data_y)"
   ]
  },
  {
   "cell_type": "code",
   "execution_count": 15,
   "metadata": {
    "tags": []
   },
   "outputs": [
    {
     "output_type": "stream",
     "name": "stdout",
     "text": "3 3 25.68304575603354\n"
    }
   ],
   "source": [
    "print(k,b,cost)"
   ]
  }
 ]
}