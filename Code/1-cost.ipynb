{
 "metadata": {
  "language_info": {
   "codemirror_mode": {
    "name": "ipython",
    "version": 3
   },
   "file_extension": ".py",
   "mimetype": "text/x-python",
   "name": "python",
   "nbconvert_exporter": "python",
   "pygments_lexer": "ipython3",
   "version": 3
  },
  "orig_nbformat": 2,
  "kernelspec": {
   "name": "python_defaultSpec_1597136657185",
   "display_name": "Python 3.8.3 64-bit ('anaconda3': virtualenv)"
  }
 },
 "nbformat": 4,
 "nbformat_minor": 2,
 "cells": [
  {
   "cell_type": "code",
   "execution_count": 1,
   "metadata": {},
   "outputs": [],
   "source": [
    "import numpy as np\n",
    "import math"
   ]
  },
  {
   "cell_type": "code",
   "execution_count": 2,
   "metadata": {},
   "outputs": [],
   "source": [
    "class PrebuiltData:\n",
    "    def Fx(x, a=0, b=3, c=3):\n",
    "        return a * x**2 + b * x + c\n",
    "\n",
    "    def MyData(rangeStart=0, rangeEnd=100, rangeNum=100, randomFloat=1):\n",
    "        data_x = np.linspace(rangeStart, rangeEnd, rangeNum)\n",
    "        random = np.random.randn(len(data_x))\n",
    "        data_y = PrebuiltData.Fx(data_x) + randomFloat * random\n",
    "        return data_x, data_y"
   ]
  },
  {
   "cell_type": "code",
   "execution_count": 3,
   "metadata": {},
   "outputs": [],
   "source": [
    "class Cost:\n",
    "    def LinerRegressionCost(data, predict):\n",
    "        if len(data) != len(predict):\n",
    "            print(\"Lengths of two data list are not equal.\")\n",
    "            return 0x7fffffff\n",
    "        bias = 0\n",
    "        for index in range(0, len(data)):\n",
    "            bias += ((data[index] - predict[index])**2) / 2\n",
    "        bias /= 2\n",
    "        return bias"
   ]
  },
  {
   "cell_type": "code",
   "execution_count": 7,
   "metadata": {},
   "outputs": [],
   "source": [
    "class Enumerate:\n",
    "    def LinerRegressionEnumerate(data_x, data_y, maxRange=100, stepSize=1):\n",
    "        cost = 0x7fffffff\n",
    "        costSave = 0x7fffffff\n",
    "        kSave = 0\n",
    "        bSave = 0\n",
    "        for k in range(0, maxRange, stepSize):\n",
    "            for b in range(0, maxRange, stepSize):\n",
    "                predict_y = list(map(lambda x: x * k + b, data_x))\n",
    "                cost = Cost.LinerRegressionCost(data_y, predict_y)\n",
    "                if cost < costSave:\n",
    "                    kSave = k\n",
    "                    bSave = b\n",
    "                    costSave = cost\n",
    "                    # print(k, b, cost)\n",
    "        return kSave, bSave, costSave"
   ]
  },
  {
   "cell_type": "code",
   "execution_count": 8,
   "metadata": {},
   "outputs": [],
   "source": [
    "data_x, data_y=PrebuiltData.MyData()"
   ]
  },
  {
   "cell_type": "code",
   "execution_count": 9,
   "metadata": {
    "tags": []
   },
   "outputs": [],
   "source": [
    "k,b,cost=Enumerate.LinerRegressionEnumerate(data_x,data_y)"
   ]
  },
  {
   "cell_type": "code",
   "execution_count": 10,
   "metadata": {
    "tags": []
   },
   "outputs": [
    {
     "output_type": "stream",
     "name": "stdout",
     "text": "3 3 29.22458945650497\n"
    }
   ],
   "source": [
    "print(k,b,cost)"
   ]
  },
  {
   "cell_type": "code",
   "execution_count": null,
   "metadata": {},
   "outputs": [],
   "source": []
  }
 ]
}