{
 "metadata": {
  "language_info": {
   "codemirror_mode": {
    "name": "ipython",
    "version": 3
   },
   "file_extension": ".py",
   "mimetype": "text/x-python",
   "name": "python",
   "nbconvert_exporter": "python",
   "pygments_lexer": "ipython3",
   "version": "3.8.3-final"
  },
  "orig_nbformat": 2,
  "kernelspec": {
   "name": "python_defaultSpec_1599460531067",
   "display_name": "Python 3.8.3 64-bit ('anaconda3': virtualenv)"
  }
 },
 "nbformat": 4,
 "nbformat_minor": 2,
 "cells": [
  {
   "cell_type": "code",
   "execution_count": 2,
   "metadata": {},
   "outputs": [],
   "source": [
    "import numpy as np\n",
    "import math"
   ]
  },
  {
   "cell_type": "code",
   "execution_count": 3,
   "metadata": {},
   "outputs": [],
   "source": [
    "def LableSet():\n",
    "    data = [\n",
    "        'd', 'd', 'f', 'f', 'a', 'b', 'e', 'g', 'a', 'g', 'e', 'd', 'c', 'd', 'f',\n",
    "        'b', 'c', 'g', 'f', 'c', 'a', 'a', 'a', 'f', 'c', 'c', 'g', 'b', 'e', 'e',\n",
    "        'a', 'e', 'b', 'd', 'e', 'f', 'c', 'a', 'f', 'g', 'c', 'g', 'f', 'g', 'd',\n",
    "        'd', 'g', 'b', 'a', 'f', 'a', 'b', 'a', 'b', 'd', 'f', 'b', 'e', 'f', 'b',\n",
    "        'b', 'a', 'd', 'a', 'f', 'e', 'c', 'a', 'd', 'b', 'a', 'f', 'b', 'b', 'c',\n",
    "        'e', 'g', 'd', 'a', 'a', 'b', 'g', 'f', 'e', 'f', 'c', 'd', 'd', 'b', 'e',\n",
    "        'c', 'e', 'e', 'a', 'a', 'g', 'b', 'a', 'e'\n",
    "    ]\n",
    "    return data"
   ]
  },
  {
   "cell_type": "code",
   "execution_count": 4,
   "metadata": {},
   "outputs": [],
   "source": [
    "data = LableSet()"
   ]
  },
  {
   "cell_type": "code",
   "execution_count": 5,
   "metadata": {},
   "outputs": [
    {
     "output_type": "execute_result",
     "data": {
      "text/plain": "{'d': 13, 'f': 15, 'a': 19, 'b': 16, 'e': 14, 'g': 11, 'c': 11}"
     },
     "metadata": {},
     "execution_count": 5
    }
   ],
   "source": [
    "dic = {}\n",
    "for lable in data:\n",
    "    if lable in dic:\n",
    "        dic[lable] += 1\n",
    "    else:\n",
    "        dic[lable] = 1\n",
    "dic"
   ]
  },
  {
   "cell_type": "code",
   "execution_count": 6,
   "metadata": {
    "tags": []
   },
   "outputs": [
    {
     "output_type": "execute_result",
     "data": {
      "text/plain": "[[1, 'd'], [2, 'f'], [3, 'a'], [4, 'b'], [5, 'e'], [6, 'g'], [7, 'c']]"
     },
     "metadata": {},
     "execution_count": 6
    }
   ],
   "source": [
    "mapping=[]\n",
    "count = 1\n",
    "for k, v in dic.items():\n",
    "    mapping.append([count, k])\n",
    "    count += 1\n",
    "mapping"
   ]
  }
 ]
}