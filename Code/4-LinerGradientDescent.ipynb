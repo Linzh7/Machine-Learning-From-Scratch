{
 "metadata": {
  "language_info": {
   "codemirror_mode": {
    "name": "ipython",
    "version": 3
   },
   "file_extension": ".py",
   "mimetype": "text/x-python",
   "name": "python",
   "nbconvert_exporter": "python",
   "pygments_lexer": "ipython3",
   "version": "3.8.3-final"
  },
  "orig_nbformat": 2,
  "kernelspec": {
   "name": "python_defaultSpec_1598368876851",
   "display_name": "Python 3.8.3 64-bit ('anaconda3': virtualenv)"
  }
 },
 "nbformat": 4,
 "nbformat_minor": 2,
 "cells": [
  {
   "cell_type": "code",
   "execution_count": 1,
   "metadata": {},
   "outputs": [],
   "source": [
    "import numpy as np\n",
    "from Cost import Cost\n",
    "import DataReader"
   ]
  },
  {
   "cell_type": "code",
   "execution_count": 2,
   "metadata": {},
   "outputs": [],
   "source": [
    "class GradientDescent():\n",
    "    def BatchGradientDescent(data_x,\n",
    "                             data_y,\n",
    "                             variableNum,\n",
    "                             epsilon=0.01,\n",
    "                             learningRate=0.0001):\n",
    "        count = 0\n",
    "        theta = np.ones((variableNum, ), dtype=np.float32)\n",
    "        predict_y = np.zeros((len(data_y), ), dtype=np.float32)\n",
    "        predictCost1 = -99999\n",
    "        while True:\n",
    "            count += 1\n",
    "            diff = np.zeros((variableNum, ), dtype=np.float32)\n",
    "            \n",
    "            for index in range(len(data_y)):\n",
    "                predict_y[index] = np.dot(theta.T, data_x[index])\n",
    "                for i in range(variableNum):\n",
    "                    diff[i] += (predict_y[index] -\n",
    "                                data_y[index]) * data_x[index][i]\n",
    "\n",
    "            for i in range(variableNum):\n",
    "                theta[i] -= learningRate * diff[i] / len(data_y)\n",
    "\n",
    "            predictCost0 = Cost.SquaredErrors(data_y, predict_y)\n",
    "            if abs(predictCost0 - predictCost1) < epsilon:\n",
    "                return theta, predictCost0\n",
    "            else:\n",
    "                predictCost1 = predictCost0\n",
    "\n",
    "    def StochasticGradientDescent(data_x,\n",
    "                                    data_y,\n",
    "                                    variableNum,\n",
    "                                    epsilon=0.01,\n",
    "                                    learningRate=0.001):\n",
    "        count = 0\n",
    "        theta = np.ones((variableNum, ), dtype=np.float32)\n",
    "        predict_y = np.zeros((len(data_y), ), dtype=np.float32)\n",
    "        predictCost1 = -99999\n",
    "        while True:\n",
    "            count += 1\n",
    "            for index in range(len(data_y)):\n",
    "                diff = np.zeros((variableNum, ), dtype=np.float32)\n",
    "                predict_y[index] = np.dot(theta.T, data_x[index])\n",
    "                for i in range(variableNum):\n",
    "                    diff[i] += (predict_y[index] -\n",
    "                                data_y[index]) * data_x[index][i]\n",
    "                for i in range(variableNum):\n",
    "                    theta[i] -= learningRate * diff[i] / len(data_y)\n",
    "                predictCost0 = Cost.SquaredErrors(data_y, predict_y)\n",
    "                if abs(predictCost0 - predictCost1) < epsilon:\n",
    "                    return theta, predictCost0\n",
    "                else:\n",
    "                    predictCost1 = predictCost0\n",
    "\n",
    "    def MinibatchGradientDescent(data_x,\n",
    "                                 data_y,\n",
    "                                 variableNum,\n",
    "                                 batchSize,\n",
    "                                 epsilon=0.01,\n",
    "                                 learningRate=0.001):\n",
    "        # initialize\n",
    "        count = 0\n",
    "        theta = np.ones((variableNum, ), dtype=np.float32)\n",
    "        predict_y = np.zeros((len(data_y), ), dtype=np.float32)\n",
    "        predictCost1 = -99999\n",
    "\n",
    "        # operate\n",
    "        while True:\n",
    "            count += 1\n",
    "            diff = np.zeros((variableNum, ), dtype=np.float32)\n",
    "\n",
    "            # shuffle the data set\n",
    "            state = np.random.get_state()\n",
    "            np.random.shuffle(data_x)\n",
    "            np.random.set_state(state)\n",
    "            np.random.shuffle(data_y)\n",
    "\n",
    "            # compute diff\n",
    "            for index in range(batchSize):\n",
    "                predict_y[index] = np.dot(theta.T, data_x[index])\n",
    "                for i in range(variableNum):\n",
    "                    diff[i] += (predict_y[index] -\n",
    "                                data_y[index]) * data_x[index][i]\n",
    "\n",
    "            # update theta\n",
    "            for i in range(variableNum):\n",
    "                theta[i] -= learningRate * diff[i] / len(data_y)\n",
    "\n",
    "            # stop condition\n",
    "            predict_y = np.dot(data_x, theta.T)\n",
    "            predictCost0 = Cost.SquaredErrors(data_y, predict_y)\n",
    "            if abs(predictCost0 - predictCost1) < epsilon:\n",
    "                return theta, predictCost0\n",
    "            else:\n",
    "                predictCost1 = predictCost0"
   ]
  },
  {
   "cell_type": "code",
   "execution_count": 4,
   "metadata": {
    "tags": []
   },
   "outputs": [],
   "source": [
    "data_x,data_y=DataReader.PrebuiltData.MyMultivariateGivenData()"
   ]
  },
  {
   "cell_type": "code",
   "execution_count": 7,
   "metadata": {
    "tags": []
   },
   "outputs": [
    {
     "output_type": "stream",
     "name": "stdout",
     "text": "[2.995741 4.991482] 11.951501848614408\nTime Cost: 0.05154085159301758\n"
    }
   ],
   "source": [
    "import time\n",
    "time_start=time.time()\n",
    "\n",
    "theta, cost = GradientDescent.BatchGradientDescent(data_x, data_y, 2)\n",
    "print(theta, cost)\n",
    "\n",
    "time_end=time.time()\n",
    "\n",
    "print('Time Cost:',time_end-time_start)"
   ]
  },
  {
   "cell_type": "markdown",
   "metadata": {},
   "source": [
    "2.995741 4.991482 11.951501848614408\n",
    "\n",
    "Time Cost: 0.06s"
   ]
  },
  {
   "cell_type": "code",
   "execution_count": 8,
   "metadata": {
    "tags": []
   },
   "outputs": [
    {
     "output_type": "stream",
     "name": "stdout",
     "text": "[2.9962835 4.992566 ] 8.595104151832285\nTime Cost: 0.035170793533325195\n"
    }
   ],
   "source": [
    "import time\n",
    "time_start=time.time()\n",
    "\n",
    "theta, cost = GradientDescent.StochasticGradientDescent(data_x, data_y, 2)\n",
    "print(theta, cost)\n",
    "\n",
    "time_end=time.time()\n",
    "\n",
    "print('Time Cost:',time_end-time_start)"
   ]
  },
  {
   "cell_type": "markdown",
   "metadata": {},
   "source": [
    "2.9962835 4.992566  8.595104151832285\n",
    "\n",
    "Time Cost: 0.03s"
   ]
  },
  {
   "cell_type": "code",
   "execution_count": 5,
   "metadata": {
    "tags": []
   },
   "outputs": [
    {
     "output_type": "stream",
     "name": "stdout",
     "text": "[2.9957356 4.9914713] 11.948511965929258\nTime Cost: 0.04020190238952637\n"
    }
   ],
   "source": [
    "import time\n",
    "time_start=time.time()\n",
    "\n",
    "theta, cost = GradientDescent.MinibatchGradientDescent(data_x, data_y, 2, 2)\n",
    "print(theta, cost)\n",
    "\n",
    "time_end=time.time()\n",
    "\n",
    "print('Time Cost:',time_end-time_start)"
   ]
  },
  {
   "cell_type": "markdown",
   "metadata": {},
   "source": [
    "2.9957356 4.9914713 11.948511965929258\n",
    "Time Cost: 0.04s"
   ]
  }
 ]
}