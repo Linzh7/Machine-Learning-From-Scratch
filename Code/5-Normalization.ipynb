{
 "metadata": {
  "language_info": {
   "codemirror_mode": {
    "name": "ipython",
    "version": 3
   },
   "file_extension": ".py",
   "mimetype": "text/x-python",
   "name": "python",
   "nbconvert_exporter": "python",
   "pygments_lexer": "ipython3",
   "version": "3.8.3-final"
  },
  "orig_nbformat": 2,
  "kernelspec": {
   "name": "python_defaultSpec_1598111730403",
   "display_name": "Python 3.8.3 64-bit ('anaconda3': virtualenv)"
  }
 },
 "nbformat": 4,
 "nbformat_minor": 2,
 "cells": [
  {
   "cell_type": "code",
   "execution_count": 19,
   "metadata": {},
   "outputs": [],
   "source": [
    "import numpy as np\n",
    "import math\n",
    "import DataReader\n",
    "import Regression"
   ]
  },
  {
   "cell_type": "code",
   "execution_count": 24,
   "metadata": {},
   "outputs": [],
   "source": [
    "def MyMultivariateGivenData():\n",
    "    data_x = []\n",
    "    for i in range(1, 100):\n",
    "        data_x.append([i, 20 * i])\n",
    "    data_y = np.array([\n",
    "        11.60, 24.60, 37.60, 50.60, 63.60, 76.60, 89.60, 102.60, 115.60,\n",
    "        128.60, 141.60, 154.60, 167.60, 180.60, 193.60, 206.60, 219.60,\n",
    "        232.60, 245.60, 258.60, 271.60, 284.60, 297.60, 310.60, 323.60,\n",
    "        336.60, 349.60, 362.60, 375.60, 388.60, 401.60, 414.60, 427.60,\n",
    "        440.60, 453.60, 466.60, 479.60, 492.60, 505.60, 518.60, 531.60,\n",
    "        544.60, 557.60, 570.60, 583.60, 596.60, 609.60, 622.60, 635.60,\n",
    "        648.60, 661.60, 674.60, 687.60, 700.60, 713.60, 726.60, 739.60,\n",
    "        752.60, 765.60, 778.60, 791.60, 804.60, 817.60, 830.60, 843.60,\n",
    "        856.60, 869.60, 882.60, 895.60, 908.60, 921.60, 934.60, 947.60,\n",
    "        960.60, 973.60, 986.60, 999.60, 1012.60, 1025.60, 1038.60, 1051.60,\n",
    "        1064.60, 1077.60, 1090.60, 1103.60, 1116.60, 1129.60, 1142.60,\n",
    "        1155.60, 1168.60, 1181.60, 1194.60, 1207.60, 1220.60, 1233.60,\n",
    "        1246.60, 1259.60, 1272.60, 1285.60\n",
    "    ])\n",
    "    return data_x, data_y"
   ]
  },
  {
   "cell_type": "code",
   "execution_count": 25,
   "metadata": {},
   "outputs": [],
   "source": [
    "data_x,data_y = MyMultivariateGivenData()"
   ]
  },
  {
   "cell_type": "code",
   "execution_count": 23,
   "metadata": {
    "tags": []
   },
   "outputs": [
    {
     "output_type": "stream",
     "name": "stdout",
     "text": "[2.995741 4.991482] 11.951501848614408\nTime Cost: 0.07781815528869629\n"
    }
   ],
   "source": [
    "import time\n",
    "time_start=time.time()\n",
    "\n",
    "theta, cost = Regression.GradientDescent.BatchGradientDescent(data_x, data_y, 2)\n",
    "print(theta, cost)\n",
    "\n",
    "time_end=time.time()\n",
    "\n",
    "print('Time Cost:',time_end-time_start)"
   ]
  },
  {
   "cell_type": "code",
   "execution_count": null,
   "metadata": {},
   "outputs": [],
   "source": [
    "def Normalization(sets):\n",
    "    for i in range(len(sets[0])):\n",
    "        sets[:, i] = sets[:, i] / sets[:, i].max()\n",
    "    return sets"
   ]
  }
 ]
}