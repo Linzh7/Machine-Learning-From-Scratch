{
 "metadata": {
  "language_info": {
   "codemirror_mode": {
    "name": "ipython",
    "version": 3
   },
   "file_extension": ".py",
   "mimetype": "text/x-python",
   "name": "python",
   "nbconvert_exporter": "python",
   "pygments_lexer": "ipython3",
   "version": 3
  },
  "orig_nbformat": 2,
  "kernelspec": {
   "name": "python_defaultSpec_1597058325482",
   "display_name": "Python 3.8.3 64-bit ('anaconda3': virtualenv)"
  }
 },
 "nbformat": 4,
 "nbformat_minor": 2,
 "cells": [
  {
   "cell_type": "code",
   "execution_count": 12,
   "metadata": {},
   "outputs": [],
   "source": [
    "import DataReader\n",
    "import numpy as np\n",
    "from Cost import Cost"
   ]
  },
  {
   "cell_type": "code",
   "execution_count": 16,
   "metadata": {},
   "outputs": [],
   "source": [
    "class Enumerate():\n",
    "    def LinerRegressionEnumerate(data_x, data_y, maxRange=100, stepSize=1.0):\n",
    "        cost = costSave = 0x7fffffff\n",
    "        kSave = 0\n",
    "        bSave = 0\n",
    "        for k in np.arange(0, maxRange, stepSize):\n",
    "            for b in np.arange(0, maxRange, stepSize):\n",
    "                predict_y = list(map(lambda x: x * k + b, data_x))\n",
    "                cost = Cost.SquaredErrors(data_y, predict_y)\n",
    "                if cost < costSave:\n",
    "                    kSave = k\n",
    "                    bSave = b\n",
    "                    costSave = cost\n",
    "                    #print(k, b, cost)\n",
    "        return kSave, bSave, costSave"
   ]
  },
  {
   "cell_type": "code",
   "execution_count": 17,
   "metadata": {},
   "outputs": [
    {
     "output_type": "execute_result",
     "data": {
      "text/plain": "(array([ 0.,  1.,  2.,  3.,  4.,  5.,  6.,  7.,  8.,  9., 10., 11., 12.,\n        13., 14., 15., 16., 17., 18., 19., 20., 21., 22., 23., 24., 25.,\n        26., 27., 28., 29., 30., 31., 32., 33., 34., 35., 36., 37., 38.,\n        39., 40., 41., 42., 43., 44., 45., 46., 47., 48., 49., 50., 51.,\n        52., 53., 54., 55., 56., 57., 58., 59., 60., 61., 62., 63., 64.,\n        65., 66., 67., 68., 69., 70., 71., 72., 73., 74., 75., 76., 77.,\n        78., 79., 80., 81., 82., 83., 84., 85., 86., 87., 88., 89., 90.,\n        91., 92., 93., 94., 95., 96., 97., 98., 99.]),\n array([  1.90023748,   5.93151639,   9.11386589,  10.38863545,\n         14.67311072,  18.25352461,  21.74065968,  23.15093809,\n         26.89563832,  30.59949445,  33.11677015,  34.99690614,\n         40.36756941,  43.94998223,  44.59584637,  47.65315067,\n         50.85159578,  52.44799969,  55.58292274,  59.65705196,\n         63.23571265,  64.23210206,  69.03122787,  71.62637019,\n         75.04650093,  78.26529656,  81.07600226,  83.24559494,\n         87.1764483 ,  89.32317647,  93.1277536 ,  96.90644897,\n         98.50098503, 103.29783739, 106.56726381, 108.68589731,\n        111.33740085, 112.70570961, 118.85935577, 120.23175571,\n        121.29601949, 126.4227533 , 127.97372525, 131.42531594,\n        135.87468741, 138.19752355, 138.24863168, 145.02619778,\n        146.9509153 , 150.54810849, 151.12790081, 156.62162675,\n        157.31789606, 161.14611659, 165.47807858, 169.00032276,\n        171.5380342 , 174.63239204, 174.31870836, 181.24033809,\n        182.64567608, 184.44308164, 189.59956447, 191.13789742,\n        194.42593825, 197.75438834, 201.85682671, 205.1263614 ,\n        209.12028724, 211.89959145, 212.5972026 , 216.00921868,\n        220.22889086, 223.77825198, 225.12669382, 227.39099596,\n        232.3536254 , 235.0922685 , 236.14427926, 239.21651754,\n        244.46784399, 246.6438479 , 249.82148573, 251.48794191,\n        257.38478829, 258.25788282, 260.7469903 , 261.66720068,\n        265.52240258, 269.94654206, 272.44541874, 277.1446768 ,\n        278.89692604, 281.58407616, 284.92620111, 287.55723482,\n        290.96628675, 293.58942974, 297.55886489, 300.58781352]))"
     },
     "metadata": {},
     "execution_count": 17
    }
   ],
   "source": [
    "data_x, data_y = DataReader.PrebuiltData.MyData()\n",
    "data_x, data_y"
   ]
  },
  {
   "cell_type": "code",
   "execution_count": 19,
   "metadata": {
    "tags": []
   },
   "outputs": [
    {
     "output_type": "stream",
     "name": "stdout",
     "text": "3.0 3.0 27.110003224567993\n"
    }
   ],
   "source": [
    "k, b ,cost= Enumerate.LinerRegressionEnumerate(data_x, data_y, 10, 0.05)\n",
    "print(k,b,cost)"
   ]
  },
  {
   "cell_type": "code",
   "execution_count": null,
   "metadata": {},
   "outputs": [],
   "source": []
  }
 ]
}