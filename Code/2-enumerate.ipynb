{
 "metadata": {
  "language_info": {
   "codemirror_mode": {
    "name": "ipython",
    "version": 3
   },
   "file_extension": ".py",
   "mimetype": "text/x-python",
   "name": "python",
   "nbconvert_exporter": "python",
   "pygments_lexer": "ipython3",
   "version": 3
  },
  "orig_nbformat": 2,
  "kernelspec": {
   "name": "python_defaultSpec_1597141810617",
   "display_name": "Python 3.8.3 64-bit ('anaconda3': virtualenv)"
  }
 },
 "nbformat": 4,
 "nbformat_minor": 2,
 "cells": [
  {
   "cell_type": "code",
   "execution_count": 16,
   "metadata": {},
   "outputs": [],
   "source": [
    "import DataReader\n",
    "import numpy as np\n",
    "from Cost import Cost"
   ]
  },
  {
   "cell_type": "code",
   "execution_count": 6,
   "metadata": {},
   "outputs": [],
   "source": [
    "class Enumerate():\n",
    "    def LinerRegressionEnumerate(data_x, data_y, maxRange=10, stepSize=0.1):\n",
    "        cost = costSave = 0x7fffffff\n",
    "        kSave = 0\n",
    "        bSave = 0\n",
    "        for k in np.arange(0, maxRange, stepSize):\n",
    "            for b in np.arange(0, maxRange, stepSize):\n",
    "                predict_y = list(map(lambda x: x * k + b, data_x))\n",
    "                cost = Cost.SquaredErrors(data_y, predict_y)\n",
    "                if cost < costSave:\n",
    "                    kSave = k\n",
    "                    bSave = b\n",
    "                    costSave = cost\n",
    "                    #print(k, b, cost)\n",
    "        return kSave, bSave, costSave"
   ]
  },
  {
   "cell_type": "code",
   "execution_count": 7,
   "metadata": {},
   "outputs": [],
   "source": [
    "data_x, data_y = DataReader.PrebuiltData.MyGivenData()"
   ]
  },
  {
   "cell_type": "code",
   "execution_count": 17,
   "metadata": {
    "tags": []
   },
   "outputs": [
    {
     "output_type": "stream",
     "name": "stdout",
     "text": "3.0 2.785 77.6593687500001\ntime cost: 49.29499173164368\n"
    }
   ],
   "source": [
    "import time\n",
    "time_start=time.time()\n",
    "\n",
    "k, b ,cost= Enumerate.LinerRegressionEnumerate(data_x, data_y, 3.1, 0.005)\n",
    "\n",
    "time_end=time.time()\n",
    "\n",
    "print(k,b,cost)\n",
    "print('Time Cost: ',time_end-time_start)"
   ]
  }
 ]
}