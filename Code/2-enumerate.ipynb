{
 "metadata": {
  "language_info": {
   "codemirror_mode": {
    "name": "ipython",
    "version": 3
   },
   "file_extension": ".py",
   "mimetype": "text/x-python",
   "name": "python",
   "nbconvert_exporter": "python",
   "pygments_lexer": "ipython3",
   "version": 3
  },
  "orig_nbformat": 2,
  "kernelspec": {
   "name": "python_defaultSpec_1597058325482",
   "display_name": "Python 3.8.3 64-bit ('anaconda3': virtualenv)"
  }
 },
 "nbformat": 4,
 "nbformat_minor": 2,
 "cells": [
  {
   "cell_type": "code",
   "execution_count": 20,
   "metadata": {},
   "outputs": [],
   "source": [
    "import DataReader\n",
    "import numpy as np\n",
    "from Cost import Cost"
   ]
  },
  {
   "cell_type": "code",
   "execution_count": 21,
   "metadata": {},
   "outputs": [],
   "source": [
    "class Enumerate():\n",
    "    def LinerRegressionEnumerate(data_x, data_y, maxRange=100, stepSize=1.0):\n",
    "        cost = costSave = 0x7fffffff\n",
    "        kSave = 0\n",
    "        bSave = 0\n",
    "        for k in np.arange(0, maxRange, stepSize):\n",
    "            for b in np.arange(0, maxRange, stepSize):\n",
    "                predict_y = list(map(lambda x: x * k + b, data_x))\n",
    "                cost = Cost.SquaredErrors(data_y, predict_y)\n",
    "                if cost < costSave:\n",
    "                    kSave = k\n",
    "                    bSave = b\n",
    "                    costSave = cost\n",
    "                    #print(k, b, cost)\n",
    "        return kSave, bSave, costSave"
   ]
  },
  {
   "cell_type": "code",
   "execution_count": 22,
   "metadata": {},
   "outputs": [
    {
     "output_type": "execute_result",
     "data": {
      "text/plain": "(array([ 0.,  1.,  2.,  3.,  4.,  5.,  6.,  7.,  8.,  9., 10., 11., 12.,\n        13., 14., 15., 16., 17., 18., 19., 20., 21., 22., 23., 24., 25.,\n        26., 27., 28., 29., 30., 31., 32., 33., 34., 35., 36., 37., 38.,\n        39., 40., 41., 42., 43., 44., 45., 46., 47., 48., 49., 50., 51.,\n        52., 53., 54., 55., 56., 57., 58., 59., 60., 61., 62., 63., 64.,\n        65., 66., 67., 68., 69., 70., 71., 72., 73., 74., 75., 76., 77.,\n        78., 79., 80., 81., 82., 83., 84., 85., 86., 87., 88., 89., 90.,\n        91., 92., 93., 94., 95., 96., 97., 98., 99.]),\n array([  3.04320031,   5.80564722,   8.67539823,  12.03420033,\n         14.29953033,  18.33312412,  20.4981569 ,  25.7271235 ,\n         25.33992518,  30.67632043,  32.90124064,  34.01829422,\n         39.15380196,  41.5721792 ,  45.7212148 ,  47.101618  ,\n         50.91013675,  54.46294008,  57.5298914 ,  59.21949684,\n         63.90038646,  63.10818266,  66.87501882,  72.68324672,\n         75.37718851,  77.52727829,  82.45044633,  84.20545847,\n         86.87374595,  89.97242957,  93.15486808,  96.48935089,\n        101.09392505, 103.58416471, 104.17196155, 108.09988461,\n        109.00370978, 115.2067611 , 117.73653684, 118.75708789,\n        122.89978883, 127.46539204, 129.2994839 , 132.65684736,\n        131.87655882, 138.28010609, 142.12603225, 144.19422201,\n        146.43047856, 149.80932966, 153.64599719, 156.15122223,\n        159.43028779, 160.49278606, 164.71534069, 168.5518561 ,\n        171.57384732, 174.02165819, 176.57505946, 179.84199492,\n        185.984997  , 186.72073144, 188.79418406, 192.27596506,\n        195.29375218, 199.7942891 , 200.84156732, 203.48332073,\n        206.91083706, 209.52421678, 212.92485247, 215.25353497,\n        217.47204604, 221.36316299, 225.77650252, 227.88187539,\n        231.11832701, 234.61316703, 237.07577303, 239.41097417,\n        244.14567537, 246.70467348, 249.01306173, 251.31885114,\n        255.11790229, 258.4570341 , 260.68473894, 265.50385953,\n        266.1274549 , 270.38203108, 273.45192369, 275.67519175,\n        279.63603987, 280.05195907, 283.83823899, 288.32488502,\n        289.79642845, 291.30474657, 296.45174964, 299.41495688]))"
     },
     "metadata": {},
     "execution_count": 22
    }
   ],
   "source": [
    "data_x, data_y = DataReader.PrebuiltData.MyData()\n",
    "data_x, data_y"
   ]
  },
  {
   "cell_type": "code",
   "execution_count": 24,
   "metadata": {
    "tags": []
   },
   "outputs": [
    {
     "output_type": "stream",
     "name": "stdout",
     "text": "3.0 2.96 25.687426043907344\n"
    }
   ],
   "source": [
    "k, b ,cost= Enumerate.LinerRegressionEnumerate(data_x, data_y, 5, 0.02)\n",
    "print(k,b,cost)"
   ]
  },
  {
   "cell_type": "code",
   "execution_count": null,
   "metadata": {},
   "outputs": [],
   "source": []
  }
 ]
}