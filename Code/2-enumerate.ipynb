{
 "metadata": {
  "language_info": {
   "codemirror_mode": {
    "name": "ipython",
    "version": 3
   },
   "file_extension": ".py",
   "mimetype": "text/x-python",
   "name": "python",
   "nbconvert_exporter": "python",
   "pygments_lexer": "ipython3",
   "version": 3
  },
  "orig_nbformat": 2,
  "kernelspec": {
   "name": "python_defaultSpec_1596794701407",
   "display_name": "Python 3.8.3 64-bit ('anaconda3': virtualenv)"
  }
 },
 "nbformat": 4,
 "nbformat_minor": 2,
 "cells": [
  {
   "cell_type": "code",
   "execution_count": 5,
   "metadata": {},
   "outputs": [],
   "source": [
    "import DataReader\n",
    "from Cost import Cost"
   ]
  },
  {
   "cell_type": "code",
   "execution_count": 7,
   "metadata": {},
   "outputs": [],
   "source": [
    "class Enumerate():\n",
    "    def LinerRegressionEnumerate(data_x, data_y, maxRange=100, stepSize=1):\n",
    "        cost = costSave = 0x7fffffff\n",
    "        kSave = 0\n",
    "        bSave = 0\n",
    "        for k in range(0, maxRange, stepSize):\n",
    "            for b in range(0, maxRange, stepSize):\n",
    "                predict_y = list(map(lambda x: x * k + b, data_x))\n",
    "                cost = Cost.SquaredErrors(data_y, predict_y)\n",
    "                if cost < costSave:\n",
    "                    kSave = k\n",
    "                    bSave = b\n",
    "                    costSave = cost\n",
    "                    #print(k, b, cost)\n",
    "        return kSave, bSave, costSave"
   ]
  },
  {
   "cell_type": "code",
   "execution_count": 3,
   "metadata": {},
   "outputs": [
    {
     "output_type": "execute_result",
     "data": {
      "text/plain": "(array([ 0.,  1.,  2.,  3.,  4.,  5.,  6.,  7.,  8.,  9., 10., 11., 12.,\n        13., 14., 15., 16., 17., 18., 19., 20., 21., 22., 23., 24., 25.,\n        26., 27., 28., 29., 30., 31., 32., 33., 34., 35., 36., 37., 38.,\n        39., 40., 41., 42., 43., 44., 45., 46., 47., 48., 49., 50., 51.,\n        52., 53., 54., 55., 56., 57., 58., 59., 60., 61., 62., 63., 64.,\n        65., 66., 67., 68., 69., 70., 71., 72., 73., 74., 75., 76., 77.,\n        78., 79., 80., 81., 82., 83., 84., 85., 86., 87., 88., 89., 90.,\n        91., 92., 93., 94., 95., 96., 97., 98., 99.]),\n array([  3.56636759,   5.62952746,   8.37508246,  14.1234207 ,\n         16.45888418,  18.0999395 ,  20.65023287,  26.17101883,\n         26.39558045,  30.41414084,  33.29559999,  35.2568414 ,\n         37.62709575,  44.41294657,  45.67721484,  47.42958186,\n         51.39127626,  53.94210255,  56.72163299,  59.18714286,\n         62.52039286,  65.8747454 ,  68.58611372,  72.77100982,\n         73.96417442,  76.73867048,  80.93010829,  84.26817099,\n         87.16283732,  89.51761495,  89.69471813,  97.65455   ,\n         99.57507631, 102.51504006, 106.34693859, 106.77549933,\n        111.61566871, 111.32681131, 115.65195963, 121.21521003,\n        123.02150346, 125.67055546, 128.08594626, 133.24065108,\n        136.16700089, 138.83657168, 141.02714492, 143.63972565,\n        146.07144515, 149.7865967 , 152.68589643, 155.95616565,\n        160.64831296, 159.6944635 , 165.06655611, 169.82763922,\n        172.23827528, 173.73671543, 178.48380631, 181.22297558,\n        181.17110875, 186.11705663, 188.21348768, 192.70237325,\n        195.10227353, 198.15529539, 201.74563528, 203.82326823,\n        206.76443939, 209.65818761, 212.1114511 , 215.61363102,\n        219.51311532, 223.01737252, 224.31018479, 228.82179384,\n        232.35298156, 234.64394108, 236.32318961, 240.28634233,\n        242.94142207, 246.45740382, 251.03482769, 251.45228515,\n        255.16514281, 256.61436523, 261.19770997, 264.28910363,\n        265.80109438, 268.81745172, 272.42323253, 276.24500137,\n        277.14330588, 282.41389816, 285.07484564, 289.10257941,\n        291.9786751 , 295.28888725, 296.19905219, 300.21884415]))"
     },
     "metadata": {},
     "execution_count": 3
    }
   ],
   "source": [
    "data_x, data_y = DataReader.PrebuiltData.MyData()\n",
    "data_x, data_y"
   ]
  },
  {
   "cell_type": "code",
   "execution_count": 9,
   "metadata": {
    "tags": []
   },
   "outputs": [
    {
     "output_type": "stream",
     "name": "stdout",
     "text": "3 3 26.798927423272314\n"
    }
   ],
   "source": [
    "k, b ,cost= Enumerate.LinerRegressionEnumerate(data_x, data_y)\n",
    "print(k,b,cost)"
   ]
  },
  {
   "cell_type": "code",
   "execution_count": null,
   "metadata": {},
   "outputs": [],
   "source": []
  }
 ]
}