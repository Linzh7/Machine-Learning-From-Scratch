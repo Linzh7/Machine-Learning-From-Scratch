{
 "metadata": {
  "language_info": {
   "codemirror_mode": {
    "name": "ipython",
    "version": 3
   },
   "file_extension": ".py",
   "mimetype": "text/x-python",
   "name": "python",
   "nbconvert_exporter": "python",
   "pygments_lexer": "ipython3",
   "version": 3
  },
  "orig_nbformat": 2,
  "kernelspec": {
   "name": "python_defaultSpec_1596287063780",
   "display_name": "Python 3.8.3 64-bit ('anaconda3': virtualenv)"
  }
 },
 "nbformat": 4,
 "nbformat_minor": 2,
 "cells": [
  {
   "cell_type": "code",
   "execution_count": 2,
   "metadata": {},
   "outputs": [],
   "source": [
    "import math"
   ]
  },
  {
   "cell_type": "code",
   "execution_count": 29,
   "metadata": {},
   "outputs": [],
   "source": [
    "data_x = [1, 2, 3, 4, 5, 6, 7, 8, 9, 10, 11, 12, 13, 14, 15, 16, 17, 18, 19, 20, 21, 22, 23, 24, 25, 26, 27, 28, 29, 30, 31, 32, 33, 34, 35, 36, 37, 38, 39, 40, 41, 42, 43, 44, 45, 46, 47, 48, 49, 50, 51, 52, 53, 54, 55, 56, 57, 58, 59, 60, 61, 62, 63, 64, 65, 66, 67, 68, 69, 70, 71, 72, 73, 74, 75, 76, 77, 78, 79, 80, 81, 82, 83, 84, 85, 86, 87, 88, 89, 90, 91, 92, 93, 94, 95, 96, 97, 98, 99]\n",
    "data_y = [3.03, 8.98, 9.76, 17.77, 19.36, 18.02, 21.67, 24.84, 30.06, 31.09, 33.14, 39.66, 43.24, 43.01, 49.08, 48.67, 51.22, 58.73, 62.35, 63.37, 66.21, 68.36, 72.58, 77.73, 79.30, 82.41, 84.59, 87.65, 92.71, 94.14, 98.96, 96.92, 100.49, 103.69, 107.47, 112.30, 112.25, 119.65, 120.27, 122.58, 126.75, 126.56, 131.66, 135.19, 137.22, 140.52, 144.36, 148.66, 151.89, 151.59, 154.52, 156.10, 160.59, 167.87, 169.54, 169.42, 175.30, 176.61, 181.15, 183.19, 187.32, 188.07, 194.08, 192.35, 195.48, 199.27, 202.93, 208.60, 209.41, 210.97, 216.89, 216.22, 222.08, 226.80, 225.78, 230.25, 231.79, 234.64, 242.19, 241.19, 243.91, 246.65, 254.63, 254.22, 260.18, 261.71, 264.59, 267.76, 268.21, 274.39, 275.98, 280.82, 283.98, 282.57, 285.02, 288.28, 296.47, 294.98, 299.00]"
   ]
  },
  {
   "cell_type": "code",
   "execution_count": 40,
   "metadata": {},
   "outputs": [],
   "source": [
    "def LinerRegressionCost(data, predict, k, b):\n",
    "    bias=0\n",
    "    for index in range(0,len(data)):\n",
    "        bias += ((data[index] - predict[index]) ** 2) / 2\n",
    "    bias /= 2\n",
    "    return bias"
   ]
  },
  {
   "cell_type": "code",
   "execution_count": 61,
   "metadata": {},
   "outputs": [
    {
     "output_type": "execute_result",
     "data": {
      "text/plain": "77.68872500000012"
     },
     "metadata": {},
     "execution_count": 61
    }
   ],
   "source": [
    "predict_y = list(map(lambda x: x * 3 + 2.75, data_x))\n",
    "a = LinerRegressionCost(data_y, predict_y, 3, 6)"
   ]
  },
  {
   "cell_type": "markdown",
   "metadata": {},
   "source": []
  }
 ]
}