{
 "metadata": {
  "language_info": {
   "codemirror_mode": {
    "name": "ipython",
    "version": 3
   },
   "file_extension": ".py",
   "mimetype": "text/x-python",
   "name": "python",
   "nbconvert_exporter": "python",
   "pygments_lexer": "ipython3",
   "version": 3
  },
  "orig_nbformat": 2,
  "kernelspec": {
   "name": "python_defaultSpec_1596333545381",
   "display_name": "Python 3.8.3 64-bit ('anaconda3': virtualenv)"
  }
 },
 "nbformat": 4,
 "nbformat_minor": 2,
 "cells": [
  {
   "cell_type": "code",
   "execution_count": 6,
   "metadata": {},
   "outputs": [],
   "source": [
    "import math"
   ]
  },
  {
   "cell_type": "markdown",
   "metadata": {},
   "source": [
    "Read a data set I create which follows the law of ** y = 3x + 3 _(6 * random())_ **"
   ]
  },
  {
   "cell_type": "code",
   "execution_count": 7,
   "metadata": {},
   "outputs": [],
   "source": [
    "data_x = list(range(rangeA, rangeB))\n",
    "data_y = list(map(lambda x: x * (k - 1 + random.random()) + b * random.random(), data_x))"
   ]
  },
  {
   "cell_type": "code",
   "execution_count": 8,
   "metadata": {},
   "outputs": [],
   "source": [
    "class Cost:\n",
    "    def LinerRegressionCost(data, predict, k, b):\n",
    "        if len(data) != len(predict):\n",
    "            print(\"Lengths of two data list are not equal.\")\n",
    "            return 0x7fffffff\n",
    "        bias = 0\n",
    "        for index in range(0, len(data)):\n",
    "            bias += ((data[index] - predict[index])**2) / 2\n",
    "        bias /= 2\n",
    "        return bias"
   ]
  },
  {
   "cell_type": "code",
   "execution_count": 10,
   "metadata": {},
   "outputs": [
    {
     "output_type": "execute_result",
     "data": {
      "text/plain": "77.68872500000012"
     },
     "metadata": {},
     "execution_count": 10
    }
   ],
   "source": [
    "predict_y = list(map(lambda x: x * 3 + 2.75, data_x))\n",
    "a = Cost.LinerRegressionCost(data_y, predict_y, 3, 6)\n",
    "a"
   ]
  },
  {
   "cell_type": "markdown",
   "metadata": {},
   "source": []
  }
 ]
}