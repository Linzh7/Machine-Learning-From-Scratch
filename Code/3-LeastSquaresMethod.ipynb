{
 "metadata": {
  "language_info": {
   "codemirror_mode": {
    "name": "ipython",
    "version": 3
   },
   "file_extension": ".py",
   "mimetype": "text/x-python",
   "name": "python",
   "nbconvert_exporter": "python",
   "pygments_lexer": "ipython3",
   "version": 3
  },
  "orig_nbformat": 2,
  "kernelspec": {
   "name": "python_defaultSpec_1596971189175",
   "display_name": "Python 3.8.3 64-bit ('anaconda3': virtualenv)"
  }
 },
 "nbformat": 4,
 "nbformat_minor": 2,
 "cells": [
  {
   "cell_type": "code",
   "execution_count": 10,
   "metadata": {},
   "outputs": [],
   "source": [
    "import numpy as np\n",
    "from Cost import Cost\n",
    "import DataReader"
   ]
  },
  {
   "cell_type": "code",
   "execution_count": 12,
   "metadata": {},
   "outputs": [],
   "source": [
    "def LinerLeastSquaresMethod(data_x, data_y):\n",
    "    xMean=np.mean(data_x)\n",
    "    sumYX = 0\n",
    "    sumX2 = 0\n",
    "    for i in np.arange(len(data_x)):\n",
    "        x = data_x[i]\n",
    "        y = data_y[i]\n",
    "        sumYX += y * (x - xMean)\n",
    "        sumX2 += x**2\n",
    "    w = sumYX / (sumX2 - len(data_x) * (xMean ** 2))\n",
    "    sumDelta = 0\n",
    "    for i in np.arange(len(data_x)):\n",
    "        x = data_x[i]\n",
    "        y = data_y[i]\n",
    "        sumDelta += (y - w * x)\n",
    "    b = sumDelta / len(data_x)\n",
    "    return w, b"
   ]
  },
  {
   "cell_type": "code",
   "execution_count": 13,
   "metadata": {},
   "outputs": [],
   "source": [
    "data_x, data_y = DataReader.PrebuiltData.MyData()"
   ]
  },
  {
   "cell_type": "code",
   "execution_count": 14,
   "metadata": {
    "tags": []
   },
   "outputs": [
    {
     "output_type": "stream",
     "name": "stdout",
     "text": "3.003677956264634 2.9133738116287424\n"
    }
   ],
   "source": [
    "w, b = LinerLeastSquaresMethod(data_x, data_y)\n",
    "print(w, b)"
   ]
  },
  {
   "cell_type": "code",
   "execution_count": null,
   "metadata": {},
   "outputs": [],
   "source": []
  }
 ]
}