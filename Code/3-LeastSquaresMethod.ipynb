{
 "metadata": {
  "language_info": {
   "codemirror_mode": {
    "name": "ipython",
    "version": 3
   },
   "file_extension": ".py",
   "mimetype": "text/x-python",
   "name": "python",
   "nbconvert_exporter": "python",
   "pygments_lexer": "ipython3",
   "version": 3
  },
  "orig_nbformat": 2,
  "kernelspec": {
   "name": "python_defaultSpec_1597148219236",
   "display_name": "Python 3.8.3 64-bit ('anaconda3': virtualenv)"
  }
 },
 "nbformat": 4,
 "nbformat_minor": 2,
 "cells": [
  {
   "cell_type": "code",
   "execution_count": 1,
   "metadata": {},
   "outputs": [],
   "source": [
    "import numpy as np\n",
    "from Cost import Cost\n",
    "import DataReader"
   ]
  },
  {
   "cell_type": "code",
   "execution_count": 2,
   "metadata": {},
   "outputs": [],
   "source": [
    "def LinerLeastSquaresMethod(data_x, data_y):\n",
    "    xMean=np.mean(data_x)\n",
    "    sumYX = 0\n",
    "    sumX2 = 0\n",
    "    for i in np.arange(len(data_x)):\n",
    "        x = data_x[i]\n",
    "        y = data_y[i]\n",
    "        sumYX += y * (x - xMean)\n",
    "        sumX2 += x**2\n",
    "    k = sumYX / (sumX2 - len(data_x) * (xMean ** 2))\n",
    "    sumDelta = 0\n",
    "    for i in np.arange(len(data_x)):\n",
    "        x = data_x[i]\n",
    "        y = data_y[i]\n",
    "        sumDelta += (y - k * x)\n",
    "    b = sumDelta / len(data_x)\n",
    "    return k, b"
   ]
  },
  {
   "cell_type": "code",
   "execution_count": 3,
   "metadata": {},
   "outputs": [],
   "source": [
    "data_x, data_y = DataReader.PrebuiltData.MyGivenData()"
   ]
  },
  {
   "cell_type": "code",
   "execution_count": 8,
   "metadata": {
    "tags": []
   },
   "outputs": [
    {
     "output_type": "stream",
     "name": "stdout",
     "text": "2.9984813852813854 2.860375180375172\n77.61274723232341\nTime Cost: 0.0007650852203369141\n"
    }
   ],
   "source": [
    "import time\n",
    "time_start=time.time()\n",
    "\n",
    "k, b = LinerLeastSquaresMethod(data_x, data_y)\n",
    "\n",
    "\n",
    "time_end=time.time()\n",
    "\n",
    "predict_y = np.array(data_x * k + b)\n",
    "\n",
    "print(k, b)\n",
    "print(Cost.SquaredErrors(data_y, predict_y))\n",
    "\n",
    "print('Time Cost:',time_end-time_start)"
   ]
  },
  {
   "cell_type": "markdown",
   "metadata": {},
   "source": [
    "Output:\n",
    "\n",
    "2.9984813852813854 2.860375180375172\n",
    "\n",
    "Time Cost: 0.0003361701965332031\n",
    "\n",
    "数学运算就很快，结果也和上一结果相近，但损失会大一些，不过仍然是一个很不错的结果。"
   ]
  }
 ]
}