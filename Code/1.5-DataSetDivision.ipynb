{
 "metadata": {
  "language_info": {
   "codemirror_mode": {
    "name": "ipython",
    "version": 3
   },
   "file_extension": ".py",
   "mimetype": "text/x-python",
   "name": "python",
   "nbconvert_exporter": "python",
   "pygments_lexer": "ipython3",
   "version": "3.8.3-final"
  },
  "orig_nbformat": 2,
  "kernelspec": {
   "name": "python_defaultSpec_1600739708178",
   "display_name": "Python 3.8.3 64-bit ('anaconda3': virtualenv)"
  }
 },
 "nbformat": 4,
 "nbformat_minor": 2,
 "cells": [
  {
   "cell_type": "code",
   "execution_count": 1,
   "metadata": {},
   "outputs": [],
   "source": [
    "import numpy as np\n",
    "import math"
   ]
  },
  {
   "cell_type": "code",
   "execution_count": 23,
   "metadata": {},
   "outputs": [],
   "source": [
    "def MyGivenData():\n",
    "    data = []\n",
    "    for i in range(100):\n",
    "        data.append([i, i*2])\n",
    "    return np.array(data)\n",
    "\n",
    "def DataSetDivision(data, proportion=0.3):\n",
    "    train_set = []\n",
    "    eval_set = []\n",
    "    np.random.shuffle(data)\n",
    "    length = int(data.shape[0] * proportion)\n",
    "    train_set = data[: length]\n",
    "    eval_set = data[length :]\n",
    "    return np.array(train_set), np.array(eval_set)\n",
    "\n",
    "def K_FoldCrossValidation(rowData, k=10):\n",
    "    length = rowData.shape[0]\n",
    "    dataIndex = np.array(range(length))\n",
    "    ls = []\n",
    "    np.random.shuffle(dataIndex)\n",
    "    dataIndex = np.split(dataIndex, k)\n",
    "    train_set = []\n",
    "    eval_set = []\n",
    "    for j in range(k-1):\n",
    "        train_set.append(dataIndex[j])\n",
    "    eval_set = dataIndex[k-1]\n",
    "    return train_set, eval_set"
   ]
  },
  {
   "cell_type": "code",
   "execution_count": 24,
   "metadata": {
    "tags": []
   },
   "outputs": [
    {
     "output_type": "execute_result",
     "data": {
      "text/plain": "([array([28, 97, 39, 35, 19, 84,  4, 73, 83, 58]),\n  array([48, 50, 85, 60, 95, 23, 26, 20, 61, 67]),\n  array([ 7, 78, 15, 80, 96, 45, 87, 63, 74, 41]),\n  array([62, 68,  1, 94, 12, 37, 55, 40, 33, 51]),\n  array([81,  0, 99, 54, 76, 36, 34, 24,  9,  6]),\n  array([22, 32, 71, 86, 47, 65, 90, 57, 10,  2]),\n  array([43, 27, 93, 11, 49, 98, 16, 30, 79, 69]),\n  array([29, 70, 53, 64, 42, 88,  5,  8, 92, 38]),\n  array([75, 18, 14, 82, 89, 31, 66, 44, 46, 13])],\n array([ 3, 25, 56, 21, 72, 59, 17, 91, 77, 52]))"
     },
     "metadata": {},
     "execution_count": 24
    }
   ],
   "source": [
    "data = MyGivenData()\n",
    "a = K_FoldCrossValidation(data)\n",
    "a"
   ]
  },
  {
   "cell_type": "code",
   "execution_count": 22,
   "metadata": {},
   "outputs": [
    {
     "output_type": "execute_result",
     "data": {
      "text/plain": "(array([[ 45,  90],\n        [ 42,  84],\n        [  8,  16],\n        [ 18,  36],\n        [ 26,  52],\n        [ 54, 108],\n        [  0,   0],\n        [ 48,  96],\n        [ 59, 118],\n        [ 72, 144],\n        [ 98, 196],\n        [ 56, 112],\n        [ 12,  24],\n        [ 49,  98],\n        [ 61, 122],\n        [ 78, 156],\n        [ 52, 104],\n        [ 19,  38],\n        [ 70, 140],\n        [ 82, 164],\n        [ 11,  22],\n        [ 30,  60],\n        [ 33,  66],\n        [ 69, 138],\n        [ 20,  40],\n        [ 60, 120],\n        [ 66, 132],\n        [ 77, 154],\n        [ 80, 160],\n        [ 99, 198]]),\n array([[  6,  12],\n        [  7,  14],\n        [ 74, 148],\n        [ 71, 142],\n        [ 75, 150],\n        [  9,  18],\n        [ 97, 194],\n        [ 83, 166],\n        [ 63, 126],\n        [ 76, 152],\n        [ 37,  74],\n        [ 67, 134],\n        [ 96, 192],\n        [  5,  10],\n        [ 51, 102],\n        [ 92, 184],\n        [ 31,  62],\n        [ 38,  76],\n        [ 68, 136],\n        [  4,   8],\n        [ 93, 186],\n        [ 94, 188],\n        [ 14,  28],\n        [ 44,  88],\n        [  3,   6],\n        [  2,   4],\n        [ 50, 100],\n        [ 85, 170],\n        [ 34,  68],\n        [ 27,  54],\n        [ 10,  20],\n        [ 13,  26],\n        [ 87, 174],\n        [ 25,  50],\n        [ 88, 176],\n        [ 53, 106],\n        [ 95, 190],\n        [ 46,  92],\n        [ 29,  58],\n        [ 86, 172],\n        [ 23,  46],\n        [ 57, 114],\n        [  1,   2],\n        [ 40,  80],\n        [ 22,  44],\n        [ 41,  82],\n        [ 35,  70],\n        [ 81, 162],\n        [ 32,  64],\n        [ 47,  94],\n        [ 39,  78],\n        [ 55, 110],\n        [ 17,  34],\n        [ 79, 158],\n        [ 89, 178],\n        [ 62, 124],\n        [ 58, 116],\n        [ 24,  48],\n        [ 15,  30],\n        [ 28,  56],\n        [ 84, 168],\n        [ 91, 182],\n        [ 65, 130],\n        [ 36,  72],\n        [ 64, 128],\n        [ 21,  42],\n        [ 90, 180],\n        [ 73, 146],\n        [ 43,  86],\n        [ 16,  32]]))"
     },
     "metadata": {},
     "execution_count": 22
    }
   ],
   "source": [
    "DataSetDivision(data)"
   ]
  },
  {
   "cell_type": "code",
   "execution_count": null,
   "metadata": {},
   "outputs": [],
   "source": []
  }
 ]
}