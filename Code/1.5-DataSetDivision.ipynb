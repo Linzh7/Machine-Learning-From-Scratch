{
 "metadata": {
  "language_info": {
   "codemirror_mode": {
    "name": "ipython",
    "version": 3
   },
   "file_extension": ".py",
   "mimetype": "text/x-python",
   "name": "python",
   "nbconvert_exporter": "python",
   "pygments_lexer": "ipython3",
   "version": "3.8.3-final"
  },
  "orig_nbformat": 2,
  "kernelspec": {
   "name": "python_defaultSpec_1600672795313",
   "display_name": "Python 3.8.3 64-bit ('anaconda3': virtualenv)"
  }
 },
 "nbformat": 4,
 "nbformat_minor": 2,
 "cells": [
  {
   "cell_type": "code",
   "execution_count": 11,
   "metadata": {},
   "outputs": [],
   "source": [
    "import numpy as np\n",
    "import math"
   ]
  },
  {
   "cell_type": "code",
   "execution_count": 61,
   "metadata": {},
   "outputs": [
    {
     "output_type": "error",
     "ename": "SyntaxError",
     "evalue": "invalid syntax (<ipython-input-61-7077e2eaa65e>, line 16)",
     "traceback": [
      "\u001b[0;36m  File \u001b[0;32m\"<ipython-input-61-7077e2eaa65e>\"\u001b[0;36m, line \u001b[0;32m16\u001b[0m\n\u001b[0;31m    def K-FoldCrossValidation(rowData, p=10, k=10):\u001b[0m\n\u001b[0m         ^\u001b[0m\n\u001b[0;31mSyntaxError\u001b[0m\u001b[0;31m:\u001b[0m invalid syntax\n"
     ]
    }
   ],
   "source": [
    "def MyGivenData():\n",
    "    data = []\n",
    "    for i in range(100):\n",
    "        data.append([i, i*2])\n",
    "    return np.array(data)\n",
    "\n",
    "def DataSetDivision(data, proportion=0.3):\n",
    "    train_set = []\n",
    "    eval_set = []\n",
    "    np.random.shuffle(data)\n",
    "    length = int(data.shape[0] * proportion)\n",
    "    train_set = data[: length]\n",
    "    eval_set = data[length :]\n",
    "    return np.array(train_set), np.array(eval_set)\n",
    "\n",
    "def K-FoldCrossValidation(rowData, p=10, k=10):\n",
    "    length = rowDdata.shape[0]\n",
    "    dataIndex = list(range(length))\n",
    "    dataIndex = np.split(dataIndex, k)\n",
    "    ls=[]\n",
    "    for i in range(k):\n",
    "        train_set = dataIndex[lambda x: x!=i]\n",
    "        eval_set = dataIndex[i]\n",
    "        yield tarin_set, eval_set"
   ]
  },
  {
   "cell_type": "code",
   "execution_count": 48,
   "metadata": {},
   "outputs": [
    {
     "output_type": "execute_result",
     "data": {
      "text/plain": "(array([[ 95, 190],\n        [  1,   2],\n        [  4,   8],\n        [ 58, 116],\n        [ 44,  88],\n        [ 20,  40],\n        [ 12,  24],\n        [ 29,  58],\n        [ 52, 104],\n        [  9,  18],\n        [ 69, 138],\n        [ 23,  46],\n        [ 63, 126],\n        [ 60, 120],\n        [ 43,  86],\n        [ 64, 128],\n        [ 96, 192],\n        [ 13,  26],\n        [ 19,  38],\n        [  0,   0],\n        [ 74, 148],\n        [ 91, 182],\n        [ 39,  78],\n        [  6,  12],\n        [ 11,  22],\n        [ 30,  60],\n        [ 84, 168],\n        [ 76, 152],\n        [ 53, 106],\n        [ 72, 144]]),\n array([[ 88, 176],\n        [ 54, 108],\n        [ 77, 154],\n        [ 59, 118],\n        [ 82, 164],\n        [ 83, 166],\n        [ 42,  84],\n        [ 25,  50],\n        [ 67, 134],\n        [ 16,  32],\n        [ 89, 178],\n        [ 99, 198],\n        [ 73, 146],\n        [ 38,  76],\n        [ 36,  72],\n        [ 94, 188],\n        [  5,  10],\n        [ 15,  30],\n        [  8,  16],\n        [ 92, 184],\n        [ 49,  98],\n        [ 32,  64],\n        [ 65, 130],\n        [ 33,  66],\n        [ 21,  42],\n        [ 27,  54],\n        [ 62, 124],\n        [ 87, 174],\n        [ 14,  28],\n        [  7,  14],\n        [ 41,  82],\n        [ 40,  80],\n        [ 56, 112],\n        [ 70, 140],\n        [ 78, 156],\n        [ 51, 102],\n        [ 48,  96],\n        [ 45,  90],\n        [ 79, 158],\n        [ 66, 132],\n        [ 75, 150],\n        [ 26,  52],\n        [ 57, 114],\n        [ 28,  56],\n        [ 90, 180],\n        [  3,   6],\n        [ 68, 136],\n        [ 61, 122],\n        [ 22,  44],\n        [ 10,  20],\n        [ 97, 194],\n        [ 93, 186],\n        [ 50, 100],\n        [ 86, 172],\n        [ 46,  92],\n        [ 37,  74],\n        [ 31,  62],\n        [ 34,  68],\n        [ 71, 142],\n        [ 24,  48],\n        [  2,   4],\n        [ 18,  36],\n        [ 85, 170],\n        [ 35,  70],\n        [ 55, 110],\n        [ 80, 160],\n        [ 17,  34],\n        [ 47,  94],\n        [ 81, 162],\n        [ 98, 196]]))"
     },
     "metadata": {},
     "execution_count": 48
    }
   ],
   "source": [
    "data = MyGivenData()\n",
    "DataSetDivision(data)"
   ]
  },
  {
   "cell_type": "code",
   "execution_count": 60,
   "metadata": {},
   "outputs": [
    {
     "output_type": "execute_result",
     "data": {
      "text/plain": "array([[ 95, 190],\n       [  1,   2],\n       [  4,   8],\n       [ 58, 116],\n       [ 44,  88],\n       [ 20,  40],\n       [ 12,  24],\n       [ 29,  58],\n       [ 52, 104],\n       [  9,  18],\n       [ 69, 138],\n       [ 23,  46],\n       [ 63, 126],\n       [ 60, 120],\n       [ 43,  86],\n       [ 64, 128],\n       [ 96, 192],\n       [ 13,  26],\n       [ 19,  38],\n       [  0,   0],\n       [ 74, 148],\n       [ 91, 182],\n       [ 39,  78],\n       [  6,  12],\n       [ 11,  22],\n       [ 30,  60],\n       [ 84, 168],\n       [ 76, 152],\n       [ 53, 106],\n       [ 72, 144],\n       [ 88, 176],\n       [ 54, 108],\n       [ 77, 154],\n       [ 59, 118]])"
     },
     "metadata": {},
     "execution_count": 60
    }
   ],
   "source": [
    "a=np.array_split(data,3)"
   ]
  },
  {
   "cell_type": "code",
   "execution_count": null,
   "metadata": {},
   "outputs": [],
   "source": []
  }
 ]
}